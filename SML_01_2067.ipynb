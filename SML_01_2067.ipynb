{
  "nbformat": 4,
  "nbformat_minor": 0,
  "metadata": {
    "colab": {
      "provenance": [],
      "authorship_tag": "ABX9TyPoBGrF/TXGF14gBcpuwl33",
      "include_colab_link": true
    },
    "kernelspec": {
      "name": "python3",
      "display_name": "Python 3"
    },
    "language_info": {
      "name": "python"
    }
  },
  "cells": [
    {
      "cell_type": "markdown",
      "metadata": {
        "id": "view-in-github",
        "colab_type": "text"
      },
      "source": [
        "<a href=\"https://colab.research.google.com/github/2303A52067/2303A52067-2024_STATML_Assignment/blob/main/SML_01_2067.ipynb\" target=\"_parent\"><img src=\"https://colab.research.google.com/assets/colab-badge.svg\" alt=\"Open In Colab\"/></a>"
      ]
    },
    {
      "cell_type": "code",
      "execution_count": null,
      "metadata": {
        "id": "TMBvldzwXFo2"
      },
      "outputs": [],
      "source": [
        "import numpy as np\n",
        "import matplotlib.pyplot as plt\n"
      ]
    },
    {
      "cell_type": "code",
      "source": [
        "X = [2.3, 2.5, 3.6, 2.8, 3.1, 2.9, 3.2, 2.7, 2.8, 3.0]"
      ],
      "metadata": {
        "id": "JhRrO5X8XMDn"
      },
      "execution_count": null,
      "outputs": []
    },
    {
      "cell_type": "code",
      "source": [
        "counts, bin_edges = np.histogram(X, bins=5, density=True)\n",
        "plt.hist(X, bins=5, density=True, alpha=1, edgecolor='white',color='brown')\n",
        "plt.xlabel('Value')\n",
        "plt.ylabel('Density')\n",
        "plt.title('Histogram')\n",
        "plt.show()"
      ],
      "metadata": {
        "colab": {
          "base_uri": "https://localhost:8080/",
          "height": 472
        },
        "id": "o1ezGSZdXPVF",
        "outputId": "aa298bc8-5ca5-4781-fa00-c6b4eb61bef4"
      },
      "execution_count": null,
      "outputs": [
        {
          "output_type": "display_data",
          "data": {
            "text/plain": [
              "<Figure size 640x480 with 1 Axes>"
            ],
            "image/png": "[encoded data removed]"
          },
          "metadata": {}
        }
      ]
    },
    {
      "cell_type": "code",
      "source": [
        "print(\"Bin edges:\", bin_edges)\n",
        "print(\"Density (counts):\", counts)"
      ],
      "metadata": {
        "colab": {
          "base_uri": "https://localhost:8080/"
        },
        "id": "3Eo1TO8FXS8X",
        "outputId": "dcd715aa-cc89-44e0-ae7b-da179b7845ef"
      },
      "execution_count": null,
      "outputs": [
        {
          "output_type": "stream",
          "name": "stdout",
          "text": [
            "Bin edges: [2.3  2.56 2.82 3.08 3.34 3.6 ]\n",
            "Density (counts): [0.76923077 1.15384615 0.76923077 0.76923077 0.38461538]\n"
          ]
        }
      ]
    },
    {
      "cell_type": "markdown",
      "source": [
        "Question 2:"
      ],
      "metadata": {
        "id": "1AuRHUhuXcX4"
      }
    },
    {
      "cell_type": "code",
      "source": [
        "import numpy as np\n",
        "\n"
      ],
      "metadata": {
        "id": "zj9hOXWsXWqu"
      },
      "execution_count": null,
      "outputs": []
    },
    {
      "cell_type": "code",
      "source": [
        "x = [4, 5, 8, 2, 4, 2, 5]\n",
        "y = [5, 6, 3, 8, 3, 7, 8]"
      ],
      "metadata": {
        "id": "P9yFyh9JXi_R"
      },
      "execution_count": null,
      "outputs": []
    },
    {
      "cell_type": "markdown",
      "source": [
        "for x"
      ],
      "metadata": {
        "id": "x3xrH3TtXs_2"
      }
    },
    {
      "cell_type": "code",
      "source": [
        "mean_x = np.mean(x)\n",
        "median_x = np.median(x)\n",
        "mode_x = stats.mode(x)\n",
        "variance_x = np.var(x)\n",
        "std_x = np.std(x)\n",
        "range_x = np.max(x) - np.min(x)\n",
        "iqr_x = stats.iqr(x)\n",
        "skewness_x = stats.skew(x)\n",
        "kurtosis_x = stats.kurtosis(x)\n",
        "print(f\"Mean of x: {mean_x}\")\n",
        "print(f\"Median of x: {median_x}\")\n",
        "print(f\"Mode of x: {mode_x}\")\n",
        "print(f\"Variance of x: {variance_x}\")\n",
        "print(f\"Standard deviation of x: {std_x}\")\n",
        "print(f\"Range of x: {range_x}\")\n",
        "print(f\"Interquartile Range (IQR) of x: {iqr_x}\")\n",
        "print(f\"Skewness of x: {skewness_x}\")\n",
        "print(f\"Kurtosis of x: {kurtosis_x}\")"
      ],
      "metadata": {
        "colab": {
          "base_uri": "https://localhost:8080/"
        },
        "id": "gXtNSMW8XluG",
        "outputId": "3532afb8-ae11-488e-a644-e5960353aa94"
      },
      "execution_count": null,
      "outputs": [
        {
          "output_type": "stream",
          "name": "stdout",
          "text": [
            "Mean of x: 4.285714285714286\n",
            "Median of x: 4.0\n",
            "Mode of x: ModeResult(mode=2, count=2)\n",
            "Variance of x: 3.6326530612244894\n",
            "Standard deviation of x: 1.9059520091609048\n",
            "Range of x: 6\n",
            "Interquartile Range (IQR) of x: 2.0\n",
            "Skewness of x: 0.5785710902698393\n",
            "Kurtosis of x: -0.34282287589950755\n"
          ]
        }
      ]
    },
    {
      "cell_type": "markdown",
      "source": [
        "for y"
      ],
      "metadata": {
        "id": "mLNUvHkDXyf4"
      }
    },
    {
      "cell_type": "code",
      "source": [
        "mean_y = np.mean(y)\n",
        "median_y = np.median(y)\n",
        "mode_y = stats.mode(y)\n",
        "variance_y = np.var(y)\n",
        "std_y = np.std(y)\n",
        "range_y = np.max(y) - np.min(y)\n",
        "iqr_y = stats.iqr(y)\n",
        "skewness_y = stats.skew(y)\n",
        "kurtosis_y = stats.kurtosis(y)\n",
        "print(f\"Mean of y: {mean_y}\")\n",
        "print(f\"Median of y: {median_y}\")\n",
        "print(f\"Mode of y: {mode_y}\")\n",
        "print(f\"Variance of y: {variance_y}\")\n",
        "print(f\"Standard deviation of y: {std_y}\")\n",
        "print(f\"Range of y: {range_y}\")\n",
        "print(f\"Interquartile Range (IQR) of y: {iqr_y}\")\n",
        "print(f\"Skewness of y: {skewness_y}\")\n",
        "print(f\"Kurtosis of y: {kurtosis_y}\")"
      ],
      "metadata": {
        "colab": {
          "base_uri": "https://localhost:8080/"
        },
        "id": "T_PZMI_BXwwm",
        "outputId": "4ff10591-52a8-438b-b2b6-5e7a2ce5ec93"
      },
      "execution_count": null,
      "outputs": [
        {
          "output_type": "stream",
          "name": "stdout",
          "text": [
            "Mean of y: 5.714285714285714\n",
            "Median of y: 6.0\n",
            "Mode of y: ModeResult(mode=3, count=2)\n",
            "Variance of y: 3.918367346938776\n",
            "Standard deviation of y: 1.979486637221574\n",
            "Range of y: 5\n",
            "Interquartile Range (IQR) of y: 3.5\n",
            "Skewness of y: -0.26386711521557127\n",
            "Kurtosis of y: -1.4541015625000002\n"
          ]
        }
      ]
    },
    {
      "cell_type": "markdown",
      "source": [
        "Question 3"
      ],
      "metadata": {
        "id": "7e9nUqGWX4Ep"
      }
    },
    {
      "cell_type": "code",
      "source": [
        "import pandas as pd\n",
        "import numpy as np\n",
        "import scipy.stats as stats"
      ],
      "metadata": {
        "id": "gNUi_aDAX2QM"
      },
      "execution_count": null,
      "outputs": []
    },
    {
      "cell_type": "code",
      "source": [
        "data=pd.read_csv('/content/housing.csv')\n",
        "data"
      ],
      "metadata": {
        "colab": {
          "base_uri": "https://localhost:8080/",
          "height": 443
        },
        "id": "2pecGYC4X9uO",
        "outputId": "319aa6d8-289d-4176-a7fa-3d7604db2cb1"
      },
      "execution_count": null,
      "outputs": [
        {
          "output_type": "execute_result",
          "data": {
            "text/plain": [
              "       longitude  latitude  housing_median_age  total_rooms  total_bedrooms  \\\n",
              "0        -122.23     37.88                41.0        880.0           129.0   \n",
              "1        -122.22     37.86                21.0       7099.0          1106.0   \n",
              "2        -122.24     37.85                52.0       1467.0           190.0   \n",
              "3        -122.25     37.85                52.0       1274.0           235.0   \n",
              "4        -122.25     37.85                52.0       1627.0           280.0   \n",
              "...          ...       ...                 ...          ...             ...   \n",
              "20635    -121.09     39.48                25.0       1665.0           374.0   \n",
              "20636    -121.21     39.49                18.0        697.0           150.0   \n",
              "20637    -121.22     39.43                17.0       2254.0           485.0   \n",
              "20638    -121.32     39.43                18.0       1860.0           409.0   \n",
              "20639    -121.24     39.37                16.0       2785.0           616.0   \n",
              "\n",
              "       population  households  median_income  median_house_value  \\\n",
              "0           322.0       126.0         8.3252            452600.0   \n",
              "1          2401.0      1138.0         8.3014            358500.0   \n",
              "2           496.0       177.0         7.2574            352100.0   \n",
              "3           558.0       219.0         5.6431            341300.0   \n",
              "4           565.0       259.0         3.8462            342200.0   \n",
              "...           ...         ...            ...                 ...   \n",
              "20635       845.0       330.0         1.5603             78100.0   \n",
              "20636       356.0       114.0         2.5568             77100.0   \n",
              "20637      1007.0       433.0         1.7000             92300.0   \n",
              "20638       741.0       349.0         1.8672             84700.0   \n",
              "20639      1387.0       530.0         2.3886             89400.0   \n",
              "\n",
              "      ocean_proximity  \n",
              "0            NEAR BAY  \n",
              "1            NEAR BAY  \n",
              "2            NEAR BAY  \n",
              "3            NEAR BAY  \n",
              "4            NEAR BAY  \n",
              "...               ...  \n",
              "20635          INLAND  \n",
              "20636          INLAND  \n",
              "20637          INLAND  \n",
              "20638          INLAND  \n",
              "20639          INLAND  \n",
              "\n",
              "[20640 rows x 10 columns]"
            ],
            "text/html": [
              "\n",
              "  <div id=\"df-bfed1c68-c65a-46fb-96ec-92a9e5ece94e\" class=\"colab-df-container\">\n",
              "    <div>\n",
              "<style scoped>\n",
              "    .dataframe tbody tr th:only-of-type {\n",
              "        vertical-align: middle;\n",
              "    }\n",
              "\n",
              "    .dataframe tbody tr th {\n",
              "        vertical-align: top;\n",
              "    }\n",
              "\n",
              "    .dataframe thead th {\n",
              "        text-align: right;\n",
              "    }\n",
              "</style>\n",
              "<table border=\"1\" class=\"dataframe\">\n",
              "  <thead>\n",
              "    <tr style=\"text-align: right;\">\n",
              "      <th></th>\n",
              "      <th>longitude</th>\n",
              "      <th>latitude</th>\n",
              "      <th>housing_median_age</th>\n",
              "      <th>total_rooms</th>\n",
              "      <th>total_bedrooms</th>\n",
              "      <th>population</th>\n",
              "      <th>households</th>\n",
              "      <th>median_income</th>\n",
              "      <th>median_house_value</th>\n",
              "      <th>ocean_proximity</th>\n",
              "    </tr>\n",
              "  </thead>\n",
              "  <tbody>\n",
              "    <tr>\n",
              "      <th>0</th>\n",
              "      <td>-122.23</td>\n",
              "      <td>37.88</td>\n",
              "      <td>41.0</td>\n",
              "      <td>880.0</td>\n",
              "      <td>129.0</td>\n",
              "      <td>322.0</td>\n",
              "      <td>126.0</td>\n",
              "      <td>8.3252</td>\n",
              "      <td>452600.0</td>\n",
              "      <td>NEAR BAY</td>\n",
              "    </tr>\n",
              "    <tr>\n",
              "      <th>1</th>\n",
              "      <td>-122.22</td>\n",
              "      <td>37.86</td>\n",
              "      <td>21.0</td>\n",
              "      <td>7099.0</td>\n",
              "      <td>1106.0</td>\n",
              "      <td>2401.0</td>\n",
              "      <td>1138.0</td>\n",
              "      <td>8.3014</td>\n",
              "      <td>358500.0</td>\n",
              "      <td>NEAR BAY</td>\n",
              "    </tr>\n",
              "    <tr>\n",
              "      <th>2</th>\n",
              "      <td>-122.24</td>\n",
              "      <td>37.85</td>\n",
              "      <td>52.0</td>\n",
              "      <td>1467.0</td>\n",
              "      <td>190.0</td>\n",
              "      <td>496.0</td>\n",
              "      <td>177.0</td>\n",
              "      <td>7.2574</td>\n",
              "      <td>352100.0</td>\n",
              "      <td>NEAR BAY</td>\n",
              "    </tr>\n",
              "    <tr>\n",
              "      <th>3</th>\n",
              "      <td>-122.25</td>\n",
              "      <td>37.85</td>\n",
              "      <td>52.0</td>\n",
              "      <td>1274.0</td>\n",
              "      <td>235.0</td>\n",
              "      <td>558.0</td>\n",
              "      <td>219.0</td>\n",
              "      <td>5.6431</td>\n",
              "      <td>341300.0</td>\n",
              "      <td>NEAR BAY</td>\n",
              "    </tr>\n",
              "    <tr>\n",
              "      <th>4</th>\n",
              "      <td>-122.25</td>\n",
              "      <td>37.85</td>\n",
              "      <td>52.0</td>\n",
              "      <td>1627.0</td>\n",
              "      <td>280.0</td>\n",
              "      <td>565.0</td>\n",
              "      <td>259.0</td>\n",
              "      <td>3.8462</td>\n",
              "      <td>342200.0</td>\n",
              "      <td>NEAR BAY</td>\n",
              "    </tr>\n",
              "    <tr>\n",
              "      <th>...</th>\n",
              "      <td>...</td>\n",
              "      <td>...</td>\n",
              "      <td>...</td>\n",
              "      <td>...</td>\n",
              "      <td>...</td>\n",
              "      <td>...</td>\n",
              "      <td>...</td>\n",
              "      <td>...</td>\n",
              "      <td>...</td>\n",
              "      <td>...</td>\n",
              "    </tr>\n",
              "    <tr>\n",
              "      <th>20635</th>\n",
              "      <td>-121.09</td>\n",
              "      <td>39.48</td>\n",
              "      <td>25.0</td>\n",
              "      <td>1665.0</td>\n",
              "      <td>374.0</td>\n",
              "      <td>845.0</td>\n",
              "      <td>330.0</td>\n",
              "      <td>1.5603</td>\n",
              "      <td>78100.0</td>\n",
              "      <td>INLAND</td>\n",
              "    </tr>\n",
              "    <tr>\n",
              "      <th>20636</th>\n",
              "      <td>-121.21</td>\n",
              "      <td>39.49</td>\n",
              "      <td>18.0</td>\n",
              "      <td>697.0</td>\n",
              "      <td>150.0</td>\n",
              "      <td>356.0</td>\n",
              "      <td>114.0</td>\n",
              "      <td>2.5568</td>\n",
              "      <td>77100.0</td>\n",
              "      <td>INLAND</td>\n",
              "    </tr>\n",
              "    <tr>\n",
              "      <th>20637</th>\n",
              "      <td>-121.22</td>\n",
              "      <td>39.43</td>\n",
              "      <td>17.0</td>\n",
              "      <td>2254.0</td>\n",
              "      <td>485.0</td>\n",
              "      <td>1007.0</td>\n",
              "      <td>433.0</td>\n",
              "      <td>1.7000</td>\n",
              "      <td>92300.0</td>\n",
              "      <td>INLAND</td>\n",
              "    </tr>\n",
              "    <tr>\n",
              "      <th>20638</th>\n",
              "      <td>-121.32</td>\n",
              "      <td>39.43</td>\n",
              "      <td>18.0</td>\n",
              "      <td>1860.0</td>\n",
              "      <td>409.0</td>\n",
              "      <td>741.0</td>\n",
              "      <td>349.0</td>\n",
              "      <td>1.8672</td>\n",
              "      <td>84700.0</td>\n",
              "      <td>INLAND</td>\n",
              "    </tr>\n",
              "    <tr>\n",
              "      <th>20639</th>\n",
              "      <td>-121.24</td>\n",
              "      <td>39.37</td>\n",
              "      <td>16.0</td>\n",
              "      <td>2785.0</td>\n",
              "      <td>616.0</td>\n",
              "      <td>1387.0</td>\n",
              "      <td>530.0</td>\n",
              "      <td>2.3886</td>\n",
              "      <td>89400.0</td>\n",
              "      <td>INLAND</td>\n",
              "    </tr>\n",
              "  </tbody>\n",
              "</table>\n",
              "<p>20640 rows × 10 columns</p>\n",
              "</div>\n",
              "    <div class=\"colab-df-buttons\">\n",
              "\n",
              "  <div class=\"colab-df-container\">\n",
              "    <button class=\"colab-df-convert\" onclick=\"convertToInteractive('df-bfed1c68-c65a-46fb-96ec-92a9e5ece94e')\"\n",
              "            title=\"Convert this dataframe to an interactive table.\"\n",
              "            style=\"display:none;\">\n",
              "\n",
              "  <svg xmlns=\"http://www.w3.org/2000/svg\" height=\"24px\" viewBox=\"0 -960 960 960\">\n",
              "    <path d=\"M120-120v-720h720v720H120Zm60-500h600v-160H180v160Zm220 220h160v-160H400v160Zm0 220h160v-160H400v160ZM180-400h160v-160H180v160Zm440 0h160v-160H620v160ZM180-180h160v-160H180v160Zm440 0h160v-160H620v160Z\"/>\n",
              "  </svg>\n",
              "    </button>\n",
              "\n",
              "  <style>\n",
              "    .colab-df-container {\n",
              "      display:flex;\n",
              "      gap: 12px;\n",
              "    }\n",
              "\n",
              "    .colab-df-convert {\n",
              "      background-color: #E8F0FE;\n",
              "      border: none;\n",
              "      border-radius: 50%;\n",
              "      cursor: pointer;\n",
              "      display: none;\n",
              "      fill: #1967D2;\n",
              "      height: 32px;\n",
              "      padding: 0 0 0 0;\n",
              "      width: 32px;\n",
              "    }\n",
              "\n",
              "    .colab-df-convert:hover {\n",
              "      background-color: #E2EBFA;\n",
              "      box-shadow: 0px 1px 2px rgba(60, 64, 67, 0.3), 0px 1px 3px 1px rgba(60, 64, 67, 0.15);\n",
              "      fill: #174EA6;\n",
              "    }\n",
              "\n",
              "    .colab-df-buttons div {\n",
              "      margin-bottom: 4px;\n",
              "    }\n",
              "\n",
              "    [theme=dark] .colab-df-convert {\n",
              "      background-color: #3B4455;\n",
              "      fill: #D2E3FC;\n",
              "    }\n",
              "\n",
              "    [theme=dark] .colab-df-convert:hover {\n",
              "      background-color: #434B5C;\n",
              "      box-shadow: 0px 1px 3px 1px rgba(0, 0, 0, 0.15);\n",
              "      filter: drop-shadow(0px 1px 2px rgba(0, 0, 0, 0.3));\n",
              "      fill: #FFFFFF;\n",
              "    }\n",
              "  </style>\n",
              "\n",
              "    <script>\n",
              "      const buttonEl =\n",
              "        document.querySelector('#df-bfed1c68-c65a-46fb-96ec-92a9e5ece94e button.colab-df-convert');\n",
              "      buttonEl.style.display =\n",
              "        google.colab.kernel.accessAllowed ? 'block' : 'none';\n",
              "\n",
              "      async function convertToInteractive(key) {\n",
              "        const element = document.querySelector('#df-bfed1c68-c65a-46fb-96ec-92a9e5ece94e');\n",
              "        const dataTable =\n",
              "          await google.colab.kernel.invokeFunction('convertToInteractive',\n",
              "                                                    [key], {});\n",
              "        if (!dataTable) return;\n",
              "\n",
              "        const docLinkHtml = 'Like what you see? Visit the ' +\n",
              "          '<a target=\"_blank\" href=https://colab.research.google.com/notebooks/data_table.ipynb>data table notebook</a>'\n",
              "          + ' to learn more about interactive tables.';\n",
              "        element.innerHTML = '';\n",
              "        dataTable['output_type'] = 'display_data';\n",
              "        await google.colab.output.renderOutput(dataTable, element);\n",
              "        const docLink = document.createElement('div');\n",
              "        docLink.innerHTML = docLinkHtml;\n",
              "        element.appendChild(docLink);\n",
              "      }\n",
              "    </script>\n",
              "  </div>\n",
              "\n",
              "\n",
              "<div id=\"df-64a06cd3-7b01-4da3-9476-c22d42ce2917\">\n",
              "  <button class=\"colab-df-quickchart\" onclick=\"quickchart('df-64a06cd3-7b01-4da3-9476-c22d42ce2917')\"\n",
              "            title=\"Suggest charts\"\n",
              "            style=\"display:none;\">\n",
              "\n",
              "<svg xmlns=\"http://www.w3.org/2000/svg\" height=\"24px\"viewBox=\"0 0 24 24\"\n",
              "     width=\"24px\">\n",
              "    <g>\n",
              "        <path d=\"M19 3H5c-1.1 0-2 .9-2 2v14c0 1.1.9 2 2 2h14c1.1 0 2-.9 2-2V5c0-1.1-.9-2-2-2zM9 17H7v-7h2v7zm4 0h-2V7h2v10zm4 0h-2v-4h2v4z\"/>\n",
              "    </g>\n",
              "</svg>\n",
              "  </button>\n",
              "\n",
              "<style>\n",
              "  .colab-df-quickchart {\n",
              "      --bg-color: #E8F0FE;\n",
              "      --fill-color: #1967D2;\n",
              "      --hover-bg-color: #E2EBFA;\n",
              "      --hover-fill-color: #174EA6;\n",
              "      --disabled-fill-color: #AAA;\n",
              "      --disabled-bg-color: #DDD;\n",
              "  }\n",
              "\n",
              "  [theme=dark] .colab-df-quickchart {\n",
              "      --bg-color: #3B4455;\n",
              "      --fill-color: #D2E3FC;\n",
              "      --hover-bg-color: #434B5C;\n",
              "      --hover-fill-color: #FFFFFF;\n",
              "      --disabled-bg-color: #3B4455;\n",
              "      --disabled-fill-color: #666;\n",
              "  }\n",
              "\n",
              "  .colab-df-quickchart {\n",
              "    background-color: var(--bg-color);\n",
              "    border: none;\n",
              "    border-radius: 50%;\n",
              "    cursor: pointer;\n",
              "    display: none;\n",
              "    fill: var(--fill-color);\n",
              "    height: 32px;\n",
              "    padding: 0;\n",
              "    width: 32px;\n",
              "  }\n",
              "\n",
              "  .colab-df-quickchart:hover {\n",
              "    background-color: var(--hover-bg-color);\n",
              "    box-shadow: 0 1px 2px rgba(60, 64, 67, 0.3), 0 1px 3px 1px rgba(60, 64, 67, 0.15);\n",
              "    fill: var(--button-hover-fill-color);\n",
              "  }\n",
              "\n",
              "  .colab-df-quickchart-complete:disabled,\n",
              "  .colab-df-quickchart-complete:disabled:hover {\n",
              "    background-color: var(--disabled-bg-color);\n",
              "    fill: var(--disabled-fill-color);\n",
              "    box-shadow: none;\n",
              "  }\n",
              "\n",
              "  .colab-df-spinner {\n",
              "    border: 2px solid var(--fill-color);\n",
              "    border-color: transparent;\n",
              "    border-bottom-color: var(--fill-color);\n",
              "    animation:\n",
              "      spin 1s steps(1) infinite;\n",
              "  }\n",
              "\n",
              "  @keyframes spin {\n",
              "    0% {\n",
              "      border-color: transparent;\n",
              "      border-bottom-color: var(--fill-color);\n",
              "      border-left-color: var(--fill-color);\n",
              "    }\n",
              "    20% {\n",
              "      border-color: transparent;\n",
              "      border-left-color: var(--fill-color);\n",
              "      border-top-color: var(--fill-color);\n",
              "    }\n",
              "    30% {\n",
              "      border-color: transparent;\n",
              "      border-left-color: var(--fill-color);\n",
              "      border-top-color: var(--fill-color);\n",
              "      border-right-color: var(--fill-color);\n",
              "    }\n",
              "    40% {\n",
              "      border-color: transparent;\n",
              "      border-right-color: var(--fill-color);\n",
              "      border-top-color: var(--fill-color);\n",
              "    }\n",
              "    60% {\n",
              "      border-color: transparent;\n",
              "      border-right-color: var(--fill-color);\n",
              "    }\n",
              "    80% {\n",
              "      border-color: transparent;\n",
              "      border-right-color: var(--fill-color);\n",
              "      border-bottom-color: var(--fill-color);\n",
              "    }\n",
              "    90% {\n",
              "      border-color: transparent;\n",
              "      border-bottom-color: var(--fill-color);\n",
              "    }\n",
              "  }\n",
              "</style>\n",
              "\n",
              "  <script>\n",
              "    async function quickchart(key) {\n",
              "      const quickchartButtonEl =\n",
              "        document.querySelector('#' + key + ' button');\n",
              "      quickchartButtonEl.disabled = true;  // To prevent multiple clicks.\n",
              "      quickchartButtonEl.classList.add('colab-df-spinner');\n",
              "      try {\n",
              "        const charts = await google.colab.kernel.invokeFunction(\n",
              "            'suggestCharts', [key], {});\n",
              "      } catch (error) {\n",
              "        console.error('Error during call to suggestCharts:', error);\n",
              "      }\n",
              "      quickchartButtonEl.classList.remove('colab-df-spinner');\n",
              "      quickchartButtonEl.classList.add('colab-df-quickchart-complete');\n",
              "    }\n",
              "    (() => {\n",
              "      let quickchartButtonEl =\n",
              "        document.querySelector('#df-64a06cd3-7b01-4da3-9476-c22d42ce2917 button');\n",
              "      quickchartButtonEl.style.display =\n",
              "        google.colab.kernel.accessAllowed ? 'block' : 'none';\n",
              "    })();\n",
              "  </script>\n",
              "</div>\n",
              "\n",
              "  <div id=\"id_28d1e3ab-45e6-449b-a2ce-b8f507861c27\">\n",
              "    <style>\n",
              "      .colab-df-generate {\n",
              "        background-color: #E8F0FE;\n",
              "        border: none;\n",
              "        border-radius: 50%;\n",
              "        cursor: pointer;\n",
              "        display: none;\n",
              "        fill: #1967D2;\n",
              "        height: 32px;\n",
              "        padding: 0 0 0 0;\n",
              "        width: 32px;\n",
              "      }\n",
              "\n",
              "      .colab-df-generate:hover {\n",
              "        background-color: #E2EBFA;\n",
              "        box-shadow: 0px 1px 2px rgba(60, 64, 67, 0.3), 0px 1px 3px 1px rgba(60, 64, 67, 0.15);\n",
              "        fill: #174EA6;\n",
              "      }\n",
              "\n",
              "      [theme=dark] .colab-df-generate {\n",
              "        background-color: #3B4455;\n",
              "        fill: #D2E3FC;\n",
              "      }\n",
              "\n",
              "      [theme=dark] .colab-df-generate:hover {\n",
              "        background-color: #434B5C;\n",
              "        box-shadow: 0px 1px 3px 1px rgba(0, 0, 0, 0.15);\n",
              "        filter: drop-shadow(0px 1px 2px rgba(0, 0, 0, 0.3));\n",
              "        fill: #FFFFFF;\n",
              "      }\n",
              "    </style>\n",
              "    <button class=\"colab-df-generate\" onclick=\"generateWithVariable('data')\"\n",
              "            title=\"Generate code using this dataframe.\"\n",
              "            style=\"display:none;\">\n",
              "\n",
              "  <svg xmlns=\"http://www.w3.org/2000/svg\" height=\"24px\"viewBox=\"0 0 24 24\"\n",
              "       width=\"24px\">\n",
              "    <path d=\"M7,19H8.4L18.45,9,17,7.55,7,17.6ZM5,21V16.75L18.45,3.32a2,2,0,0,1,2.83,0l1.4,1.43a1.91,1.91,0,0,1,.58,1.4,1.91,1.91,0,0,1-.58,1.4L9.25,21ZM18.45,9,17,7.55Zm-12,3A5.31,5.31,0,0,0,4.9,8.1,5.31,5.31,0,0,0,1,6.5,5.31,5.31,0,0,0,4.9,4.9,5.31,5.31,0,0,0,6.5,1,5.31,5.31,0,0,0,8.1,4.9,5.31,5.31,0,0,0,12,6.5,5.46,5.46,0,0,0,6.5,12Z\"/>\n",
              "  </svg>\n",
              "    </button>\n",
              "    <script>\n",
              "      (() => {\n",
              "      const buttonEl =\n",
              "        document.querySelector('#id_28d1e3ab-45e6-449b-a2ce-b8f507861c27 button.colab-df-generate');\n",
              "      buttonEl.style.display =\n",
              "        google.colab.kernel.accessAllowed ? 'block' : 'none';\n",
              "\n",
              "      buttonEl.onclick = () => {\n",
              "        google.colab.notebook.generateWithVariable('data');\n",
              "      }\n",
              "      })();\n",
              "    </script>\n",
              "  </div>\n",
              "\n",
              "    </div>\n",
              "  </div>\n"
            ],
            "application/vnd.google.colaboratory.intrinsic+json": {
              "type": "dataframe",
              "variable_name": "data",
              "summary": "{\n  \"name\": \"data\",\n  \"rows\": 20640,\n  \"fields\": [\n    {\n      \"column\": \"longitude\",\n      \"properties\": {\n        \"dtype\": \"number\",\n        \"std\": 2.0035317235025882,\n        \"min\": -124.35,\n        \"max\": -114.31,\n        \"num_unique_values\": 844,\n        \"samples\": [\n          -118.63,\n          -119.86,\n          -121.26\n        ],\n        \"semantic_type\": \"\",\n        \"description\": \"\"\n      }\n    },\n    {\n      \"column\": \"latitude\",\n      \"properties\": {\n        \"dtype\": \"number\",\n        \"std\": 2.1359523974571153,\n        \"min\": 32.54,\n        \"max\": 41.95,\n        \"num_unique_values\": 862,\n        \"samples\": [\n          33.7,\n          34.41,\n          38.24\n        ],\n        \"semantic_type\": \"\",\n        \"description\": \"\"\n      }\n    },\n    {\n      \"column\": \"housing_median_age\",\n      \"properties\": {\n        \"dtype\": \"number\",\n        \"std\": 12.58555761211165,\n        \"min\": 1.0,\n        \"max\": 52.0,\n        \"num_unique_values\": 52,\n        \"samples\": [\n          35.0,\n          25.0,\n          7.0\n        ],\n        \"semantic_type\": \"\",\n        \"description\": \"\"\n      }\n    },\n    {\n      \"column\": \"total_rooms\",\n      \"properties\": {\n        \"dtype\": \"number\",\n        \"std\": 2181.615251582795,\n        \"min\": 2.0,\n        \"max\": 39320.0,\n        \"num_unique_values\": 5926,\n        \"samples\": [\n          699.0,\n          1544.0,\n          3966.0\n        ],\n        \"semantic_type\": \"\",\n        \"description\": \"\"\n      }\n    },\n    {\n      \"column\": \"total_bedrooms\",\n      \"properties\": {\n        \"dtype\": \"number\",\n        \"std\": 421.3850700740323,\n        \"min\": 1.0,\n        \"max\": 6445.0,\n        \"num_unique_values\": 1923,\n        \"samples\": [\n          1538.0,\n          1298.0,\n          1578.0\n        ],\n        \"semantic_type\": \"\",\n        \"description\": \"\"\n      }\n    },\n    {\n      \"column\": \"population\",\n      \"properties\": {\n        \"dtype\": \"number\",\n        \"std\": 1132.462121765341,\n        \"min\": 3.0,\n        \"max\": 35682.0,\n        \"num_unique_values\": 3888,\n        \"samples\": [\n          4169.0,\n          636.0,\n          3367.0\n        ],\n        \"semantic_type\": \"\",\n        \"description\": \"\"\n      }\n    },\n    {\n      \"column\": \"households\",\n      \"properties\": {\n        \"dtype\": \"number\",\n        \"std\": 382.32975283161073,\n        \"min\": 1.0,\n        \"max\": 6082.0,\n        \"num_unique_values\": 1815,\n        \"samples\": [\n          21.0,\n          750.0,\n          1447.0\n        ],\n        \"semantic_type\": \"\",\n        \"description\": \"\"\n      }\n    },\n    {\n      \"column\": \"median_income\",\n      \"properties\": {\n        \"dtype\": \"number\",\n        \"std\": 1.8998217179452688,\n        \"min\": 0.4999,\n        \"max\": 15.0001,\n        \"num_unique_values\": 12928,\n        \"samples\": [\n          5.0286,\n          2.0433,\n          6.1228\n        ],\n        \"semantic_type\": \"\",\n        \"description\": \"\"\n      }\n    },\n    {\n      \"column\": \"median_house_value\",\n      \"properties\": {\n        \"dtype\": \"number\",\n        \"std\": 115395.61587441387,\n        \"min\": 14999.0,\n        \"max\": 500001.0,\n        \"num_unique_values\": 3842,\n        \"samples\": [\n          194300.0,\n          379000.0,\n          230100.0\n        ],\n        \"semantic_type\": \"\",\n        \"description\": \"\"\n      }\n    },\n    {\n      \"column\": \"ocean_proximity\",\n      \"properties\": {\n        \"dtype\": \"category\",\n        \"num_unique_values\": 5,\n        \"samples\": [\n          \"<1H OCEAN\",\n          \"ISLAND\",\n          \"INLAND\"\n        ],\n        \"semantic_type\": \"\",\n        \"description\": \"\"\n      }\n    }\n  ]\n}"
            }
          },
          "metadata": {},
          "execution_count": 13
        }
      ]
    },
    {
      "cell_type": "markdown",
      "source": [
        "Column 1- longitute"
      ],
      "metadata": {
        "id": "9khvZ1qPaxv4"
      }
    },
    {
      "cell_type": "code",
      "source": [
        "print(f\"the mean of longitude data is ={np.mean(data['longitude'])}\\n\")\n",
        "print(f\"the median of longitude data is ={np.median(data['longitude'])}\\n\")\n",
        "print(f\"the mode of longitude data is ={stats.mode(data['longitude'])}\\n\")\n",
        "print(f\"the variance of longitude data is ={np.var(data['longitude'])}\\n\")\n",
        "print(f\"the standard deviation of longitude data is ={np.std(data['longitude'])}\\n\")\n",
        "print(f\"the range of longitude data is ={np.max(data['longitude'])-np.min(data['longitude'])}\\n\")\n",
        "print(f\"the interquartile range of longitude data is ={stats.iqr(data['longitude'])}\\n\")\n",
        "print(f\"the skewness of longitude data is ={stats.skew(data['longitude'])}\\n\")\n",
        "print(f\"the kurtosis of longitude data is ={stats.kurtosis(data['longitude'])}\\n\")\n"
      ],
      "metadata": {
        "colab": {
          "base_uri": "https://localhost:8080/"
        },
        "id": "60p2skAIYATk",
        "outputId": "6e9a3e4b-4078-4812-9a92-dfe4b80303cb"
      },
      "execution_count": null,
      "outputs": [
        {
          "output_type": "stream",
          "name": "stdout",
          "text": [
            "the mean of longitude data is =-119.56970445736432\n",
            "\n",
            "the median of longitude data is =-118.49\n",
            "\n",
            "the mode of longitude data is =ModeResult(mode=-118.31, count=162)\n",
            "\n",
            "the variance of longitude data is =4.0139448835847835\n",
            "\n",
            "the standard deviation of longitude data is =2.003483187746976\n",
            "\n",
            "the range of longitude data is =10.039999999999992\n",
            "\n",
            "the interquartile range of longitude data is =3.789999999999992\n",
            "\n",
            "the skewness of longitude data is =-0.29777956498586855\n",
            "\n",
            "the kurtosis of longitude data is =-1.3301208448425363\n",
            "\n"
          ]
        }
      ]
    },
    {
      "cell_type": "markdown",
      "source": [
        "Column 2- latitude"
      ],
      "metadata": {
        "id": "0ZW6L3BMa5LT"
      }
    },
    {
      "cell_type": "code",
      "source": [
        "print(f\"The mean of latitude data is = {np.mean(data['latitude'])}\\n\")\n",
        "print(f\"The median of latitude data is = {np.median(data['latitude'])}\\n\")\n",
        "print(f\"The mode of latitude data is = {stats.mode(data['latitude'])}\\n\")\n",
        "print(f\"The variance of latitude data is = {np.var(data['latitude'])}\\n\")\n",
        "print(f\"The standard deviation of latitude data is = {np.std(data['latitude'])}\\n\")\n",
        "print(f\"The range of latitude data is = {np.max(data['latitude']) - np.min(data['latitude'])}\\n\")\n",
        "print(f\"The interquartile range of latitude data is = {stats.iqr(data['latitude'])}\\n\")\n",
        "print(f\"The skewness of latitude data is = {stats.skew(data['latitude'])}\\n\")\n",
        "print(f\"The kurtosis of latitude data is = {stats.kurtosis(data['latitude'])}\\n\")"
      ],
      "metadata": {
        "colab": {
          "base_uri": "https://localhost:8080/"
        },
        "id": "O7NLVW-Ua269",
        "outputId": "ac626c07-9476-44b1-f0e5-565458e49a3b"
      },
      "execution_count": null,
      "outputs": [
        {
          "output_type": "stream",
          "name": "stdout",
          "text": [
            "The mean of latitude data is = 35.63186143410853\n",
            "\n",
            "The median of latitude data is = 34.26\n",
            "\n",
            "The mode of latitude data is = ModeResult(mode=34.06, count=244)\n",
            "\n",
            "The variance of latitude data is = 4.562071602892517\n",
            "\n",
            "The standard deviation of latitude data is = 2.135900653797483\n",
            "\n",
            "The range of latitude data is = 9.410000000000004\n",
            "\n",
            "The interquartile range of latitude data is = 3.780000000000001\n",
            "\n",
            "The skewness of latitude data is = 0.46591914016270397\n",
            "\n",
            "The kurtosis of latitude data is = -1.117779708313892\n",
            "\n"
          ]
        }
      ]
    },
    {
      "cell_type": "markdown",
      "source": [
        "Culumn 3- housing_median_age"
      ],
      "metadata": {
        "id": "knnF7HxdbBvQ"
      }
    },
    {
      "cell_type": "code",
      "source": [
        "print(f\"The mean of housing_median_age data is = {np.mean(data['housing_median_age'])}\\n\")\n",
        "print(f\"The median of housing_median_age data is = {np.median(data['housing_median_age'])}\\n\")\n",
        "print(f\"The mode of housing_median_age data is = {stats.mode(data['housing_median_age'])}\\n\")\n",
        "print(f\"The variance of housing_median_age data is = {np.var(data['housing_median_age'])}\\n\")\n",
        "print(f\"The standard deviation of housing_median_age data is = {np.std(data['housing_median_age'])}\\n\")\n",
        "print(f\"The range of housing_median_age data is = {np.max(data['housing_median_age']) - np.min(data['housing_median_age'])}\\n\")\n",
        "print(f\"The interquartile range of housing_median_age data is = {stats.iqr(data['housing_median_age'])}\\n\")\n",
        "print(f\"The skewness of housing_median_age data is = {stats.skew(data['housing_median_age'])}\\n\")\n",
        "print(f\"The kurtosis of housing_median_age data is = {stats.kurtosis(data['housing_median_age'])}\\n\")"
      ],
      "metadata": {
        "colab": {
          "base_uri": "https://localhost:8080/"
        },
        "id": "YukZtgQpa_uD",
        "outputId": "0515cd3d-e17f-46f9-d5e5-e362f72ca494"
      },
      "execution_count": null,
      "outputs": [
        {
          "output_type": "stream",
          "name": "stdout",
          "text": [
            "The mean of housing_median_age data is = 28.639486434108527\n",
            "\n",
            "The median of housing_median_age data is = 29.0\n",
            "\n",
            "The mode of housing_median_age data is = ModeResult(mode=52.0, count=1273)\n",
            "\n",
            "The variance of housing_median_age data is = 158.38858617035862\n",
            "\n",
            "The standard deviation of housing_median_age data is = 12.585252725724606\n",
            "\n",
            "The range of housing_median_age data is = 51.0\n",
            "\n",
            "The interquartile range of housing_median_age data is = 19.0\n",
            "\n",
            "The skewness of housing_median_age data is = 0.06032625301661101\n",
            "\n",
            "The kurtosis of housing_median_age data is = -0.8007255995444988\n",
            "\n"
          ]
        }
      ]
    },
    {
      "cell_type": "markdown",
      "source": [
        "column 4-total_room"
      ],
      "metadata": {
        "id": "Y5tcd6XsbMqz"
      }
    },
    {
      "cell_type": "code",
      "source": [
        "print(f\"The mean of total_rooms data is = {np.mean(data['total_rooms'])}\\n\")\n",
        "print(f\"The median of total_rooms data is = {np.median(data['total_rooms'])}\\n\")\n",
        "print(f\"The mode of total_rooms data is = {stats.mode(data['total_rooms'])}\\n\")\n",
        "print(f\"The variance of total_rooms data is = {np.var(data['total_rooms'])}\\n\")\n",
        "print(f\"The standard deviation of total_rooms data is = {np.std(data['total_rooms'])}\\n\")\n",
        "print(f\"The range of total_rooms data is = {np.max(data['total_rooms']) - np.min(data['total_rooms'])}\\n\")\n",
        "print(f\"The interquartile range of total_rooms data is = {stats.iqr(data['total_rooms'])}\\n\")\n",
        "print(f\"The skewness of total_rooms data is = {stats.skew(data['total_rooms'])}\\n\")\n",
        "print(f\"The kurtosis of total_rooms data is = {stats.kurtosis(data['total_rooms'])}\\n\")"
      ],
      "metadata": {
        "colab": {
          "base_uri": "https://localhost:8080/"
        },
        "id": "bLKpk9UsbKRx",
        "outputId": "9903a339-4bd9-4bf5-9301-37e1ddf6b5cb"
      },
      "execution_count": null,
      "outputs": [
        {
          "output_type": "stream",
          "name": "stdout",
          "text": [
            "The mean of total_rooms data is = 2635.7630813953488\n",
            "\n",
            "The median of total_rooms data is = 2127.0\n",
            "\n",
            "The mode of total_rooms data is = ModeResult(mode=1527.0, count=18)\n",
            "\n",
            "The variance of total_rooms data is = 4759214.512668024\n",
            "\n",
            "The standard deviation of total_rooms data is = 2181.5624017359723\n",
            "\n",
            "The range of total_rooms data is = 39318.0\n",
            "\n",
            "The interquartile range of total_rooms data is = 1700.25\n",
            "\n",
            "The skewness of total_rooms data is = 4.147042038773343\n",
            "\n",
            "The kurtosis of total_rooms data is = 32.6227320729488\n",
            "\n"
          ]
        }
      ]
    },
    {
      "cell_type": "markdown",
      "source": [
        "column 5- total_bedrooms"
      ],
      "metadata": {
        "id": "MPDcwzFvbXvs"
      }
    },
    {
      "cell_type": "code",
      "source": [
        "print(f\"The mean of total_bedrooms data is = {np.mean(data['total_bedrooms'])}\\n\")\n",
        "print(f\"The median of total_bedrooms data is = {np.median(data['total_bedrooms'])}\\n\")\n",
        "print(f\"The mode of total_bedrooms data is = {stats.mode(data['total_bedrooms'])}\\n\")\n",
        "print(f\"The variance of total_bedrooms data is = {np.var(data['total_bedrooms'])}\\n\")\n",
        "print(f\"The standard deviation of total_bedrooms data is = {np.std(data['total_bedrooms'])}\\n\")\n",
        "print(f\"The range of total_bedrooms data is = {np.max(data['total_bedrooms']) - np.min(data['total_bedrooms'])}\\n\")\n",
        "print(f\"The interquartile range of total_bedrooms data is = {stats.iqr(data['total_bedrooms'])}\\n\")\n",
        "print(f\"The skewness of total_bedrooms data is = {stats.skew(data['total_bedrooms'])}\\n\")\n",
        "print(f\"The kurtosis of total_bedrooms data is = {stats.kurtosis(data['total_bedrooms'])}\\n\")"
      ],
      "metadata": {
        "colab": {
          "base_uri": "https://localhost:8080/"
        },
        "id": "jb0xcuEbbVDG",
        "outputId": "714ec5ff-abd4-4bfd-eb18-bc2ff6de06c7"
      },
      "execution_count": null,
      "outputs": [
        {
          "output_type": "stream",
          "name": "stdout",
          "text": [
            "The mean of total_bedrooms data is = 537.8705525375618\n",
            "\n",
            "The median of total_bedrooms data is = nan\n",
            "\n",
            "The mode of total_bedrooms data is = ModeResult(mode=nan, count=207)\n",
            "\n",
            "The variance of total_bedrooms data is = 177556.6871536956\n",
            "\n",
            "The standard deviation of total_bedrooms data is = 421.37475856260727\n",
            "\n",
            "The range of total_bedrooms data is = 6444.0\n",
            "\n",
            "The interquartile range of total_bedrooms data is = nan\n",
            "\n",
            "The skewness of total_bedrooms data is = nan\n",
            "\n",
            "The kurtosis of total_bedrooms data is = nan\n",
            "\n"
          ]
        }
      ]
    },
    {
      "cell_type": "markdown",
      "source": [
        "column 6- population"
      ],
      "metadata": {
        "id": "IGdMmxB_bjjy"
      }
    },
    {
      "cell_type": "code",
      "source": [
        "print(f\"The mean of population data is = {np.mean(data['population'])}\\n\")\n",
        "print(f\"The median of population data is = {np.median(data['population'])}\\n\")\n",
        "print(f\"The mode of population data is = {stats.mode(data['population'])}\\n\")\n",
        "print(f\"The variance of population data is = {np.var(data['population'])}\\n\")\n",
        "print(f\"The standard deviation of population data is = {np.std(data['population'])}\\n\")\n",
        "print(f\"The range of population data is = {np.max(data['population']) - np.min(data['population'])}\\n\")\n",
        "print(f\"The interquartile range of population data is = {stats.iqr(data['population'])}\\n\")\n",
        "print(f\"The skewness of population data is = {stats.skew(data['population'])}\\n\")\n",
        "print(f\"The kurtosis of population data is = {stats.kurtosis(data['population'])}\\n\")"
      ],
      "metadata": {
        "colab": {
          "base_uri": "https://localhost:8080/"
        },
        "id": "fljxHUkRbhtA",
        "outputId": "4562fe7d-4640-47ef-e1fa-8f11c39817aa"
      },
      "execution_count": null,
      "outputs": [
        {
          "output_type": "stream",
          "name": "stdout",
          "text": [
            "The mean of population data is = 1425.4767441860465\n",
            "\n",
            "The median of population data is = 1166.0\n",
            "\n",
            "The mode of population data is = ModeResult(mode=891.0, count=25)\n",
            "\n",
            "The variance of population data is = 1282408.3220366866\n",
            "\n",
            "The standard deviation of population data is = 1132.434687757615\n",
            "\n",
            "The range of population data is = 35679.0\n",
            "\n",
            "The interquartile range of population data is = 938.0\n",
            "\n",
            "The skewness of population data is = 4.93549950885852\n",
            "\n",
            "The kurtosis of population data is = 73.53500881922278\n",
            "\n"
          ]
        }
      ]
    },
    {
      "cell_type": "markdown",
      "source": [
        "column 7- households"
      ],
      "metadata": {
        "id": "pHapSsGtbrWU"
      }
    },
    {
      "cell_type": "code",
      "source": [
        "print(f\"The mean of households data is = {np.mean(data['households'])}\\n\")\n",
        "print(f\"The median of households data is = {np.median(data['households'])}\\n\")\n",
        "print(f\"The mode of households data is = {stats.mode(data['households'])}\\n\")\n",
        "print(f\"The variance of households data is = {np.var(data['households'])}\\n\")\n",
        "print(f\"The standard deviation of households data is = {np.std(data['households'])}\\n\")\n",
        "print(f\"The range of households data is = {np.max(data['households']) - np.min(data['households'])}\\n\")\n",
        "print(f\"The interquartile range of households data is = {stats.iqr(data['households'])}\\n\")\n",
        "print(f\"The skewness of households data is = {stats.skew(data['households'])}\\n\")\n",
        "print(f\"The kurtosis of households data is = {stats.kurtosis(data['households'])}\\n\")"
      ],
      "metadata": {
        "colab": {
          "base_uri": "https://localhost:8080/"
        },
        "id": "gzvRBjFTbp65",
        "outputId": "e9e63264-9a7c-4e85-c23d-fde9e4f21452"
      },
      "execution_count": null,
      "outputs": [
        {
          "output_type": "stream",
          "name": "stdout",
          "text": [
            "The mean of households data is = 499.5396802325581\n",
            "\n",
            "The median of households data is = 409.0\n",
            "\n",
            "The mode of households data is = ModeResult(mode=306.0, count=57)\n",
            "\n",
            "The variance of households data is = 146168.95772780472\n",
            "\n",
            "The standard deviation of households data is = 382.3204908552571\n",
            "\n",
            "The range of households data is = 6081.0\n",
            "\n",
            "The interquartile range of households data is = 325.0\n",
            "\n",
            "The skewness of households data is = 3.4101898550856307\n",
            "\n",
            "The kurtosis of households data is = 22.052354233642966\n",
            "\n"
          ]
        }
      ]
    },
    {
      "cell_type": "markdown",
      "source": [
        "column 8- median_income"
      ],
      "metadata": {
        "id": "ZVbKcrnxbzoZ"
      }
    },
    {
      "cell_type": "code",
      "source": [
        "print(f\"The mean of median_income data is = {np.mean(data['median_income'])}\\n\")\n",
        "print(f\"The median of median_income data is = {np.median(data['median_income'])}\\n\")\n",
        "print(f\"The mode of median_income data is = {stats.mode(data['median_income'])}\\n\")\n",
        "print(f\"The variance of median_income data is = {np.var(data['median_income'])}\\n\")\n",
        "print(f\"The standard deviation of median_income data is = {np.std(data['median_income'])}\\n\")\n",
        "print(f\"The range of median_income data is = {np.max(data['median_income']) - np.min(data['median_income'])}\\n\")\n",
        "print(f\"The interquartile range of median_income data is = {stats.iqr(data['median_income'])}\\n\")\n",
        "print(f\"The skewness of median_income data is = {stats.skew(data['median_income'])}\\n\")\n",
        "print(f\"The kurtosis of median_income data is = {stats.kurtosis(data['median_income'])}\\n\")"
      ],
      "metadata": {
        "colab": {
          "base_uri": "https://localhost:8080/"
        },
        "id": "TTMC4GoobxSm",
        "outputId": "e78ecae9-cfee-401c-9df6-9a8702b98e77"
      },
      "execution_count": null,
      "outputs": [
        {
          "output_type": "stream",
          "name": "stdout",
          "text": [
            "The mean of median_income data is = 3.8706710029069766\n",
            "\n",
            "The median of median_income data is = 3.5347999999999997\n",
            "\n",
            "The mode of median_income data is = ModeResult(mode=3.125, count=49)\n",
            "\n",
            "The variance of median_income data is = 3.609147689697444\n",
            "\n",
            "The standard deviation of median_income data is = 1.8997756945748738\n",
            "\n",
            "The range of median_income data is = 14.5002\n",
            "\n",
            "The interquartile range of median_income data is = 2.17985\n",
            "\n",
            "The skewness of median_income data is = 1.64653702990008\n",
            "\n",
            "The kurtosis of median_income data is = 4.951033760409659\n",
            "\n"
          ]
        }
      ]
    },
    {
      "cell_type": "markdown",
      "source": [
        "column 9 - median_house_value"
      ],
      "metadata": {
        "id": "ZUtsqL8Xb9oA"
      }
    },
    {
      "cell_type": "code",
      "source": [
        "print(f\"The mean of median_house_value data is = {np.mean(data['median_house_value'])}\\n\")\n",
        "print(f\"The median of median_house_value data is = {np.median(data['median_house_value'])}\\n\")\n",
        "print(f\"The mode of median_house_value data is = {stats.mode(data['median_house_value'])}\\n\")\n",
        "print(f\"The variance of median_house_value data is = {np.var(data['median_house_value'])}\\n\")\n",
        "print(f\"The standard deviation of median_house_value data is = {np.std(data['median_house_value'])}\\n\")\n",
        "print(f\"The range of median_house_value data is = {np.max(data['median_house_value']) - np.min(data['median_house_value'])}\\n\")\n",
        "print(f\"The interquartile range of median_house_value data is = {stats.iqr(data['median_house_value'])}\\n\")\n",
        "print(f\"The skewness of median_house_value data is = {stats.skew(data['median_house_value'])}\\n\")\n",
        "print(f\"The kurtosis of median_house_value data is = {stats.kurtosis(data['median_house_value'])}\\n\")"
      ],
      "metadata": {
        "colab": {
          "base_uri": "https://localhost:8080/"
        },
        "id": "nqV_wmj6b7tl",
        "outputId": "3fdd2d9a-7a72-400c-b056-4117fd1d55dd"
      },
      "execution_count": null,
      "outputs": [
        {
          "output_type": "stream",
          "name": "stdout",
          "text": [
            "The mean of median_house_value data is = 206855.81690891474\n",
            "\n",
            "The median of median_house_value data is = 179700.0\n",
            "\n",
            "The mode of median_house_value data is = ModeResult(mode=500001.0, count=965)\n",
            "\n",
            "The variance of median_house_value data is = 13315503000.818077\n",
            "\n",
            "The standard deviation of median_house_value data is = 115392.82040412253\n",
            "\n",
            "The range of median_house_value data is = 485002.0\n",
            "\n",
            "The interquartile range of median_house_value data is = 145125.0\n",
            "\n",
            "The skewness of median_house_value data is = 0.9776922140978416\n",
            "\n",
            "The kurtosis of median_house_value data is = 0.3275001388119616\n",
            "\n"
          ]
        }
      ]
    },
    {
      "cell_type": "code",
      "source": [],
      "metadata": {
        "id": "dBrB-7LCcEwN"
      },
      "execution_count": null,
      "outputs": []
    }
  ]
}